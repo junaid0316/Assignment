{
 "cells": [
  {
   "cell_type": "code",
   "execution_count": 12,
   "metadata": {},
   "outputs": [
    {
     "name": "stdout",
     "output_type": "stream",
     "text": [
      "20\n",
      "{'first_name': 'Muhammad', 'last_name': 'Emmad', 'age': 20, 'city': 'Karachi', 'qualification': 'high academic level'}\n",
      "{'first_name': 'Muhammad', 'last_name': 'Emmad', 'age': 20, 'city': 'Karachi'}\n"
     ]
    }
   ],
   "source": [
    "costomer={\"first_name\" : \"Muhammad\",\n",
    "         \"last_name\" : \"Emmad\",\n",
    "         \"age\" : 20,\n",
    "         \"city\" : \"Karachi\",\n",
    "         }\n",
    "print(costomer[\"age\"])\n",
    "costomer.update(qualification=\"high academic level\")\n",
    "print(costomer)\n",
    "del costomer[\"qualification\"]\n",
    "print(costomer)"
   ]
  },
  {
   "cell_type": "code",
   "execution_count": 16,
   "metadata": {},
   "outputs": [
    {
     "name": "stdout",
     "output_type": "stream",
     "text": [
      "{'country': 'Canada', 'population': '2.93 million', 'fact': 'Toronto is the capital of Ontario '}\n"
     ]
    }
   ],
   "source": [
    "cities = {\"karachi\" :{\n",
    "    \"country\" : \"Pakistan\",\n",
    "    \"population\" : \"14.91 million\",\n",
    "    \"fact\" : \"Karachi is the Sixth largest city in the world by city population.\",\n",
    "                    },\n",
    "         \"dehli\" : { \"country\" : \"India\",\n",
    "    \"population\" : \"18.98 million\",\n",
    "    \"fact\" : \"Dehli is the national capital of India\",\n",
    "             \n",
    "         },\n",
    "         \"toronto\": {\n",
    "    \"country\" : \"Canada\" ,\n",
    "    \"population\" : \"2.93 million\",\n",
    "    \"fact\" : \"Toronto is the capital of Ontario \",\n",
    "         }   ,\n",
    "}\n",
    "print(cities[\"toronto\"])"
   ]
  },
  {
   "cell_type": "code",
   "execution_count": 24,
   "metadata": {},
   "outputs": [
    {
     "name": "stdout",
     "output_type": "stream",
     "text": [
      "Enter your age: 14\n",
      "cost of Ticket is $15\n"
     ]
    }
   ],
   "source": [
    "age=int(input(\"Enter your age: \"))\n",
    "if age < 3 :\n",
    "    print(\"cost of ticket is free\")\n",
    "elif age >=3 and age < 12:\n",
    "    print (\"cost of ticket is $10\")\n",
    "elif age >=12 :\n",
    "    print (\"cost of Ticket is $15\")"
   ]
  },
  {
   "cell_type": "code",
   "execution_count": 29,
   "metadata": {},
   "outputs": [
    {
     "name": "stdout",
     "output_type": "stream",
     "text": [
      "such of my favoriate book is Alice in Wonderland.\n"
     ]
    }
   ],
   "source": [
    "def favoriate_book(title):\n",
    "    print(\"such of my favoriate book is \"+title)\n",
    "name=\"Alice in Wonderland.\"\n",
    "favoriate_book(name)\n",
    "    "
   ]
  },
  {
   "cell_type": "code",
   "execution_count": 43,
   "metadata": {},
   "outputs": [
    {
     "name": "stdout",
     "output_type": "stream",
     "text": [
      "Enter any number: 3\n",
      "your no is lesser\n",
      "Enter any number: 16\n",
      "your no is lesser\n",
      "Enter any number: 28\n",
      "\n",
      "your no is  28  & the robot no is  28\n"
     ]
    }
   ],
   "source": [
    "import random\n",
    "x=random.randint(1,30)\n",
    "for index in range(3):\n",
    "    a=int(input(\"Enter any number: \"))\n",
    "    if a==x:\n",
    "        break\n",
    "    elif a>x:\n",
    "        print(\"your no is greater\")\n",
    "    elif a<x:\n",
    "        print(\"your no is lesser\")\n",
    "print(\"\\nyour no is \",a,\" & the robot no is \",x)         "
   ]
  },
  {
   "cell_type": "code",
   "execution_count": null,
   "metadata": {},
   "outputs": [],
   "source": []
  }
 ],
 "metadata": {
  "kernelspec": {
   "display_name": "Python 3",
   "language": "python",
   "name": "python3"
  },
  "language_info": {
   "codemirror_mode": {
    "name": "ipython",
    "version": 3
   },
   "file_extension": ".py",
   "mimetype": "text/x-python",
   "name": "python",
   "nbconvert_exporter": "python",
   "pygments_lexer": "ipython3",
   "version": "3.7.4"
  }
 },
 "nbformat": 4,
 "nbformat_minor": 2
}
